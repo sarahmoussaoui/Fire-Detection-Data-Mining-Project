{
 "cells": [
  {
   "cell_type": "markdown",
   "id": "cc9c4480",
   "metadata": {},
   "source": [
    "# **Imports**"
   ]
  },
  {
   "cell_type": "code",
   "execution_count": null,
   "id": "653ae9bb",
   "metadata": {},
   "outputs": [
    {
     "ename": "",
     "evalue": "",
     "output_type": "error",
     "traceback": [
      "\u001b[1;31mFailed to start the Kernel. \n",
      "\u001b[1;31mUnable to start Kernel 'venv (Python 3.12.2)' due to a timeout waiting for the ports to get used. \n",
      "\u001b[1;31mView Jupyter <a href='command:jupyter.viewOutput'>log</a> for further details."
     ]
    }
   ],
   "source": [
    "import os\n",
    "import pandas as pd\n",
    "import geopandas as gpd\n",
    "from glob import glob\n",
    "import rasterio as rio\n",
    "import matplotlib.pyplot as plt\n",
    "import pyodbc\n"
   ]
  },
  {
   "cell_type": "markdown",
   "id": "8d204c37",
   "metadata": {},
   "source": [
    "# **1/ Loading Datasets**"
   ]
  },
  {
   "cell_type": "markdown",
   "id": "919c08ee",
   "metadata": {},
   "source": [
    "## Fire datasets"
   ]
  },
  {
   "cell_type": "code",
   "execution_count": null,
   "id": "2a6fdfcc",
   "metadata": {},
   "outputs": [],
   "source": [
    "# Algeria fires\n",
    "fires_dz = pd.read_csv(\"../Datasets/Fire dataset/viirs-jpss1_2024_Algeria.csv\")\n",
    "fires_dz_gdf = gpd.GeoDataFrame(\n",
    "    fires_dz,\n",
    "    geometry=gpd.points_from_xy(fires_dz.longitude, fires_dz.latitude), # each point is a fire location, east-west and north-south positions\n",
    "    crs=\"EPSG:4326\" # coordinate reference system used by GPS\n",
    ")\n",
    "\n",
    "# Tunisia fires\n",
    "fires_tn = pd.read_csv(\"../Datasets/Fire dataset/viirs-jpss1_2024_Tunisia.csv\")\n",
    "fires_tn_gdf = gpd.GeoDataFrame(\n",
    "    fires_tn,\n",
    "    geometry=gpd.points_from_xy(fires_tn.longitude, fires_tn.latitude),\n",
    "    crs=\"EPSG:4326\"\n",
    ")\n",
    "\n",
    "# Merge both\n",
    "fires = pd.concat([fires_dz_gdf, fires_tn_gdf], ignore_index=True)\n",
    "fires.head()"
   ]
  },
  {
   "cell_type": "code",
   "execution_count": null,
   "id": "afc9bd26",
   "metadata": {},
   "outputs": [],
   "source": [
    "# saving the fires geaospatial dataframe\n",
    "fires.to_file(\"../Datasets/Fire dataset/fires_dz_tn.geojson\", driver=\"GeoJSON\")"
   ]
  },
  {
   "cell_type": "markdown",
   "id": "1221f906",
   "metadata": {},
   "source": [
    "## Land covers datasets"
   ]
  },
  {
   "cell_type": "code",
   "execution_count": null,
   "id": "689fa9b9",
   "metadata": {},
   "outputs": [
    {
     "ename": "",
     "evalue": "",
     "output_type": "error",
     "traceback": [
      "\u001b[1;31mFailed to start the Kernel. \n",
      "\u001b[1;31mUnable to start Kernel 'venv (Python 3.12.2)' due to a timeout waiting for the ports to get used. \n",
      "\u001b[1;31mView Jupyter <a href='command:jupyter.viewOutput'>log</a> for further details."
     ]
    }
   ],
   "source": [
    "# 1.3 Land cover (FAO Globcover shapefile)\n",
    "lc_dz = gpd.read_file(\"../Datasets/Land Cover dataset/Algeria/dza_gc_adg.shp\")\n",
    "lc_dz.head()\n",
    "print(lc_dz.crs)\n",
    "# saving the land cover geospatial dataframe\n",
    "lc_dz.to_file(\"../Datasets/Land Cover dataset/Algeria/lc_dz.geojson\", driver=\"GeoJSON\")\n",
    "\n",
    "\n",
    "lc_tn = rio.open(\"../Datasets/Land Cover dataset/Tunisia/LCLU.LCTNS2022.tif\") # rasterio object, a grid of pixels where each pixel has a land cover class (int value)\n",
    "print(lc_tn.crs)\n",
    "print(lc_tn.width, lc_tn.height, lc_tn.count)\n",
    "\n"
   ]
  },
  {
   "cell_type": "code",
   "execution_count": null,
   "id": "5116e5f7",
   "metadata": {},
   "outputs": [],
   "source": [
    "# Plot a small window (e.g., top-left 1000x1000 pixels) to avoid MemoryError\n",
    "window = rio.windows.Window(0, 0, 1000, 1000)\n",
    "lc_tn_small = lc_tn.read(1, window=window)\n",
    "plt.imshow(lc_tn_small, cmap=\"terrain\")\n",
    "plt.title(\"Tunisia Land Cover (Top-left 1000x1000)\")\n",
    "plt.show()"
   ]
  },
  {
   "cell_type": "markdown",
   "id": "c84f11ee",
   "metadata": {},
   "source": [
    "## Climate datasets"
   ]
  },
  {
   "cell_type": "code",
   "execution_count": 4,
   "id": "6950630b",
   "metadata": {},
   "outputs": [
    {
     "name": "stdout",
     "output_type": "stream",
     "text": [
      "EPSG:4326 | 0.04, 0.00,-180.00|\n",
      "| 0.00,-0.04, 90.00|\n",
      "| 0.00, 0.00, 1.00| 1 8640 4320\n",
      "60\n"
     ]
    }
   ],
   "source": [
    "# 1.4 Climate (WorldClim monthly GeoTIFF)\n",
    "\n",
    "tmin_paths = sorted(glob(\"../Datasets/Climate dataset/wc2.1_cruts4.09_2.5m_tmin_2020-2024/*.tif\"))\n",
    "tmax_paths = sorted(glob(\"../Datasets/Climate dataset/wc2.1_cruts4.09_2.5m_tmax_2020-2024/*.tif\"))\n",
    "prec_paths = sorted(glob(\"../Datasets/Climate dataset/wc2.1_cruts4.09_2.5m_prec_2020-2024/*.tif\"))\n",
    "\n",
    "# Example: open one to inspect\n",
    "with rio.open(tmax_paths[0]) as src:\n",
    "    print(src.crs, src.transform, src.count, src.width, src.height)\n",
    "\n",
    "\n",
    "print(len(prec_paths))  # should show ~60 files (2020-01 → 2024-12)\n"
   ]
  },
  {
   "cell_type": "markdown",
   "id": "78c85eb8",
   "metadata": {},
   "source": [
    "## Elevation datasets (shapefile)"
   ]
  },
  {
   "cell_type": "code",
   "execution_count": 5,
   "id": "dce547ea",
   "metadata": {},
   "outputs": [
    {
     "name": "stdout",
     "output_type": "stream",
     "text": [
      "                 ID                                           geometry\n",
      "0  5e83a1f36d8572da  POLYGON ((180.01 -70, 180.01 -90, 180.00995 -9...\n",
      "EPSG:4326\n"
     ]
    }
   ],
   "source": [
    "# 1.5 Elevation (GMTED2010 mean, 7.5″ tiles)\n",
    "elev_coverage = gpd.read_file(\"../Datasets/Elevation dataset/gmted2010.shp\")\n",
    "print(elev_coverage.head())\n",
    "print(elev_coverage.crs)"
   ]
  },
  {
   "cell_type": "markdown",
   "id": "5fd9e3d1",
   "metadata": {},
   "source": [
    "## Soil datasets"
   ]
  },
  {
   "cell_type": "code",
   "execution_count": 6,
   "id": "21d85846",
   "metadata": {},
   "outputs": [
    {
     "name": "stdout",
     "output_type": "stream",
     "text": [
      "['MSysAccessStorage', 'MSysAccessXML', 'MSysACEs', 'MSysIMEXColumns', 'MSysIMEXSpecs', 'MSysNameMap', 'MSysNavPaneGroupCategories', 'MSysNavPaneGroups', 'MSysNavPaneGroupToObjects', 'MSysNavPaneObjectIDs', 'MSysObjects', 'MSysQueries', 'MSysRelationships', 'D_ADD_PROP', 'D_AWC', 'D_COVERAGE', 'D_DRAINAGE', 'D_FAO90', 'D_IL', 'D_KOPPEN', 'D_PHASE', 'D_ROOT_DEPTH', 'D_ROOTS', 'D_SWR', 'D_TEXTURE', 'D_TEXTURE_SOTER', 'D_TEXTURE_USDA', 'D_WRB_PHASES', 'D_WRB2', 'D_WRB2code', 'D_WRB4', 'HWSD2_LAYERS', 'HWSD2_LAYERS_METADATA', 'HWSD2_SMU', 'HWSD2_SMU_METADATA', 'WRB_Class', 'WRB_Layer', 'WRB_Library']\n"
     ]
    },
    {
     "name": "stderr",
     "output_type": "stream",
     "text": [
      "C:\\Users\\moous\\AppData\\Local\\Temp\\ipykernel_48408\\808103362.py:10: UserWarning: pandas only supports SQLAlchemy connectable (engine/connection) or database string URI or sqlite3 DBAPI2 connection. Other DBAPI2 objects are not tested. Please consider using SQLAlchemy.\n",
      "  soil_df = pd.read_sql(\"SELECT * FROM HWSD2_SMU\", conn)\n"
     ]
    },
    {
     "data": {
      "application/vnd.microsoft.datawrangler.viewer.v0+json": {
       "columns": [
        {
         "name": "index",
         "rawType": "int64",
         "type": "integer"
        },
        {
         "name": "ID",
         "rawType": "int64",
         "type": "integer"
        },
        {
         "name": "HWSD2_SMU_ID",
         "rawType": "int64",
         "type": "integer"
        },
        {
         "name": "WISE30s_SMU_ID",
         "rawType": "object",
         "type": "string"
        },
        {
         "name": "HWSD1_SMU_ID",
         "rawType": "int64",
         "type": "integer"
        },
        {
         "name": "COVERAGE",
         "rawType": "int64",
         "type": "integer"
        },
        {
         "name": "SHARE",
         "rawType": "int64",
         "type": "integer"
        },
        {
         "name": "WRB4",
         "rawType": "object",
         "type": "string"
        },
        {
         "name": "WRB_PHASES",
         "rawType": "object",
         "type": "string"
        },
        {
         "name": "WRB2",
         "rawType": "object",
         "type": "string"
        },
        {
         "name": "WRB2_CODE",
         "rawType": "int64",
         "type": "integer"
        },
        {
         "name": "FAO90",
         "rawType": "object",
         "type": "string"
        },
        {
         "name": "KOPPEN",
         "rawType": "object",
         "type": "string"
        },
        {
         "name": "TEXTURE_USDA",
         "rawType": "float64",
         "type": "float"
        },
        {
         "name": "REF_BULK_DENSITY",
         "rawType": "float64",
         "type": "float"
        },
        {
         "name": "BULK_DENSITY",
         "rawType": "float64",
         "type": "float"
        },
        {
         "name": "DRAINAGE",
         "rawType": "object",
         "type": "string"
        },
        {
         "name": "ROOT_DEPTH",
         "rawType": "int64",
         "type": "integer"
        },
        {
         "name": "AWC",
         "rawType": "int64",
         "type": "integer"
        },
        {
         "name": "PHASE1",
         "rawType": "float64",
         "type": "float"
        },
        {
         "name": "PHASE2",
         "rawType": "float64",
         "type": "float"
        },
        {
         "name": "ROOTS",
         "rawType": "float64",
         "type": "float"
        },
        {
         "name": "IL",
         "rawType": "float64",
         "type": "float"
        },
        {
         "name": "ADD_PROP",
         "rawType": "float64",
         "type": "float"
        }
       ],
       "ref": "b1c11150-4bff-44ca-b1f5-1ff3f882262c",
       "rows": [
        [
         "0",
         "669",
         "12707",
         "WD10012707",
         "12707",
         "3",
         "40",
         "ALfr",
         "ALfr",
         "AL",
         "2",
         "ALf",
         "A",
         "11.0",
         "1.6299999952316284",
         "1.350000023841858",
         "MW",
         "1",
         "168",
         null,
         null,
         null,
         null,
         "0.0"
        ],
        [
         "1",
         "695",
         "11825",
         "WD30011825",
         "11825",
         "2",
         "100",
         "ALfr",
         "ALfr",
         "AL",
         "2",
         "ALf",
         "C",
         "7.0",
         "1.7599999904632568",
         "1.440000057220459",
         "MW",
         "1",
         "152",
         null,
         null,
         null,
         null,
         "0.0"
        ],
        [
         "2",
         "696",
         "11823",
         "WD30011823",
         "11823",
         "2",
         "100",
         "ALfr",
         "ALfr",
         "AL",
         "2",
         "ALf",
         "C",
         "7.0",
         "1.7599999904632568",
         "1.440000057220459",
         "MW",
         "1",
         "152",
         null,
         null,
         null,
         null,
         "0.0"
        ],
        [
         "3",
         "697",
         "13458",
         "WD30013458",
         "13458",
         "3",
         "100",
         "ALfr",
         "ALfr",
         "AL",
         "2",
         "ALf",
         "C",
         "7.0",
         "1.7599999904632568",
         "1.440000057220459",
         "MW",
         "1",
         "152",
         null,
         null,
         null,
         null,
         "0.0"
        ],
        [
         "4",
         "698",
         "11824",
         "WD30011824",
         "11824",
         "2",
         "100",
         "ALfr",
         "ALfr",
         "AL",
         "2",
         "ALf",
         "C",
         "7.0",
         "1.7599999904632568",
         "1.440000057220459",
         "MW",
         "1",
         "152",
         null,
         null,
         null,
         null,
         "0.0"
        ]
       ],
       "shape": {
        "columns": 23,
        "rows": 5
       }
      },
      "text/html": [
       "<div>\n",
       "<style scoped>\n",
       "    .dataframe tbody tr th:only-of-type {\n",
       "        vertical-align: middle;\n",
       "    }\n",
       "\n",
       "    .dataframe tbody tr th {\n",
       "        vertical-align: top;\n",
       "    }\n",
       "\n",
       "    .dataframe thead th {\n",
       "        text-align: right;\n",
       "    }\n",
       "</style>\n",
       "<table border=\"1\" class=\"dataframe\">\n",
       "  <thead>\n",
       "    <tr style=\"text-align: right;\">\n",
       "      <th></th>\n",
       "      <th>ID</th>\n",
       "      <th>HWSD2_SMU_ID</th>\n",
       "      <th>WISE30s_SMU_ID</th>\n",
       "      <th>HWSD1_SMU_ID</th>\n",
       "      <th>COVERAGE</th>\n",
       "      <th>SHARE</th>\n",
       "      <th>WRB4</th>\n",
       "      <th>WRB_PHASES</th>\n",
       "      <th>WRB2</th>\n",
       "      <th>WRB2_CODE</th>\n",
       "      <th>...</th>\n",
       "      <th>REF_BULK_DENSITY</th>\n",
       "      <th>BULK_DENSITY</th>\n",
       "      <th>DRAINAGE</th>\n",
       "      <th>ROOT_DEPTH</th>\n",
       "      <th>AWC</th>\n",
       "      <th>PHASE1</th>\n",
       "      <th>PHASE2</th>\n",
       "      <th>ROOTS</th>\n",
       "      <th>IL</th>\n",
       "      <th>ADD_PROP</th>\n",
       "    </tr>\n",
       "  </thead>\n",
       "  <tbody>\n",
       "    <tr>\n",
       "      <th>0</th>\n",
       "      <td>669</td>\n",
       "      <td>12707</td>\n",
       "      <td>WD10012707</td>\n",
       "      <td>12707</td>\n",
       "      <td>3</td>\n",
       "      <td>40</td>\n",
       "      <td>ALfr</td>\n",
       "      <td>ALfr</td>\n",
       "      <td>AL</td>\n",
       "      <td>2</td>\n",
       "      <td>...</td>\n",
       "      <td>1.63</td>\n",
       "      <td>1.35</td>\n",
       "      <td>MW</td>\n",
       "      <td>1</td>\n",
       "      <td>168</td>\n",
       "      <td>NaN</td>\n",
       "      <td>NaN</td>\n",
       "      <td>NaN</td>\n",
       "      <td>NaN</td>\n",
       "      <td>0.0</td>\n",
       "    </tr>\n",
       "    <tr>\n",
       "      <th>1</th>\n",
       "      <td>695</td>\n",
       "      <td>11825</td>\n",
       "      <td>WD30011825</td>\n",
       "      <td>11825</td>\n",
       "      <td>2</td>\n",
       "      <td>100</td>\n",
       "      <td>ALfr</td>\n",
       "      <td>ALfr</td>\n",
       "      <td>AL</td>\n",
       "      <td>2</td>\n",
       "      <td>...</td>\n",
       "      <td>1.76</td>\n",
       "      <td>1.44</td>\n",
       "      <td>MW</td>\n",
       "      <td>1</td>\n",
       "      <td>152</td>\n",
       "      <td>NaN</td>\n",
       "      <td>NaN</td>\n",
       "      <td>NaN</td>\n",
       "      <td>NaN</td>\n",
       "      <td>0.0</td>\n",
       "    </tr>\n",
       "    <tr>\n",
       "      <th>2</th>\n",
       "      <td>696</td>\n",
       "      <td>11823</td>\n",
       "      <td>WD30011823</td>\n",
       "      <td>11823</td>\n",
       "      <td>2</td>\n",
       "      <td>100</td>\n",
       "      <td>ALfr</td>\n",
       "      <td>ALfr</td>\n",
       "      <td>AL</td>\n",
       "      <td>2</td>\n",
       "      <td>...</td>\n",
       "      <td>1.76</td>\n",
       "      <td>1.44</td>\n",
       "      <td>MW</td>\n",
       "      <td>1</td>\n",
       "      <td>152</td>\n",
       "      <td>NaN</td>\n",
       "      <td>NaN</td>\n",
       "      <td>NaN</td>\n",
       "      <td>NaN</td>\n",
       "      <td>0.0</td>\n",
       "    </tr>\n",
       "    <tr>\n",
       "      <th>3</th>\n",
       "      <td>697</td>\n",
       "      <td>13458</td>\n",
       "      <td>WD30013458</td>\n",
       "      <td>13458</td>\n",
       "      <td>3</td>\n",
       "      <td>100</td>\n",
       "      <td>ALfr</td>\n",
       "      <td>ALfr</td>\n",
       "      <td>AL</td>\n",
       "      <td>2</td>\n",
       "      <td>...</td>\n",
       "      <td>1.76</td>\n",
       "      <td>1.44</td>\n",
       "      <td>MW</td>\n",
       "      <td>1</td>\n",
       "      <td>152</td>\n",
       "      <td>NaN</td>\n",
       "      <td>NaN</td>\n",
       "      <td>NaN</td>\n",
       "      <td>NaN</td>\n",
       "      <td>0.0</td>\n",
       "    </tr>\n",
       "    <tr>\n",
       "      <th>4</th>\n",
       "      <td>698</td>\n",
       "      <td>11824</td>\n",
       "      <td>WD30011824</td>\n",
       "      <td>11824</td>\n",
       "      <td>2</td>\n",
       "      <td>100</td>\n",
       "      <td>ALfr</td>\n",
       "      <td>ALfr</td>\n",
       "      <td>AL</td>\n",
       "      <td>2</td>\n",
       "      <td>...</td>\n",
       "      <td>1.76</td>\n",
       "      <td>1.44</td>\n",
       "      <td>MW</td>\n",
       "      <td>1</td>\n",
       "      <td>152</td>\n",
       "      <td>NaN</td>\n",
       "      <td>NaN</td>\n",
       "      <td>NaN</td>\n",
       "      <td>NaN</td>\n",
       "      <td>0.0</td>\n",
       "    </tr>\n",
       "  </tbody>\n",
       "</table>\n",
       "<p>5 rows × 23 columns</p>\n",
       "</div>"
      ],
      "text/plain": [
       "    ID  HWSD2_SMU_ID WISE30s_SMU_ID  HWSD1_SMU_ID  COVERAGE  SHARE  WRB4  \\\n",
       "0  669         12707     WD10012707         12707         3     40  ALfr   \n",
       "1  695         11825     WD30011825         11825         2    100  ALfr   \n",
       "2  696         11823     WD30011823         11823         2    100  ALfr   \n",
       "3  697         13458     WD30013458         13458         3    100  ALfr   \n",
       "4  698         11824     WD30011824         11824         2    100  ALfr   \n",
       "\n",
       "  WRB_PHASES WRB2  WRB2_CODE  ... REF_BULK_DENSITY BULK_DENSITY  DRAINAGE  \\\n",
       "0       ALfr   AL          2  ...             1.63         1.35        MW   \n",
       "1       ALfr   AL          2  ...             1.76         1.44        MW   \n",
       "2       ALfr   AL          2  ...             1.76         1.44        MW   \n",
       "3       ALfr   AL          2  ...             1.76         1.44        MW   \n",
       "4       ALfr   AL          2  ...             1.76         1.44        MW   \n",
       "\n",
       "   ROOT_DEPTH  AWC PHASE1  PHASE2  ROOTS  IL  ADD_PROP  \n",
       "0           1  168    NaN     NaN    NaN NaN       0.0  \n",
       "1           1  152    NaN     NaN    NaN NaN       0.0  \n",
       "2           1  152    NaN     NaN    NaN NaN       0.0  \n",
       "3           1  152    NaN     NaN    NaN NaN       0.0  \n",
       "4           1  152    NaN     NaN    NaN NaN       0.0  \n",
       "\n",
       "[5 rows x 23 columns]"
      ]
     },
     "execution_count": 6,
     "metadata": {},
     "output_type": "execute_result"
    }
   ],
   "source": [
    "# 1.6 Soil (HWSD v2)\n",
    "\n",
    "conn_str = r\"Driver={Microsoft Access Driver (*.mdb, *.accdb)};DBQ=../Datasets/Soil dataset/HWSD2.mdb;\"\n",
    "conn = pyodbc.connect(conn_str)\n",
    "cursor = conn.cursor()\n",
    "\n",
    "tables = [row.table_name for row in cursor.tables()]\n",
    "print(tables)\n",
    "\n",
    "soil_df = pd.read_sql(\"SELECT * FROM HWSD2_SMU\", conn)\n",
    "soil_df.head()"
   ]
  },
  {
   "cell_type": "markdown",
   "id": "69c57df4",
   "metadata": {},
   "source": [
    "## **2/ AOI (Algeria + Tunisia polygon)**"
   ]
  },
  {
   "cell_type": "code",
   "execution_count": 7,
   "id": "4129e995",
   "metadata": {},
   "outputs": [],
   "source": [
    "# Create necessary directories\n",
    "os.makedirs(\"../Datasets/processed/vectors\", exist_ok=True)\n",
    "os.makedirs(\"../Datasets/processed/rasters/climate/prec\", exist_ok=True)\n",
    "os.makedirs(\"../Datasets/processed/rasters/climate/tmin\", exist_ok=True)\n",
    "os.makedirs(\"../Datasets/processed/rasters/climate/tmax\", exist_ok=True)\n",
    "os.makedirs(\"../Datasets/processed/rasters/landcover_tn\", exist_ok=True)\n",
    "os.makedirs(\"../Datasets/processed/rasters/elevation\", exist_ok=True)\n",
    "\n"
   ]
  },
  {
   "cell_type": "code",
   "execution_count": 8,
   "id": "3dc51a28",
   "metadata": {},
   "outputs": [
    {
     "ename": "AttributeError",
     "evalue": "The geopandas.dataset has been deprecated and was removed in GeoPandas 1.0. You can get the original 'naturalearth_lowres' data from https://www.naturalearthdata.com/downloads/110m-cultural-vectors/.",
     "output_type": "error",
     "traceback": [
      "\u001b[31m---------------------------------------------------------------------------\u001b[39m",
      "\u001b[31mAttributeError\u001b[39m                            Traceback (most recent call last)",
      "\u001b[36mCell\u001b[39m\u001b[36m \u001b[39m\u001b[32mIn[8]\u001b[39m\u001b[32m, line 2\u001b[39m\n\u001b[32m      1\u001b[39m \u001b[38;5;66;03m# quick and reliable AOI from Natural Earth\u001b[39;00m\n\u001b[32m----> \u001b[39m\u001b[32m2\u001b[39m world = gpd.read_file(\u001b[43mgpd\u001b[49m\u001b[43m.\u001b[49m\u001b[43mdatasets\u001b[49m\u001b[43m.\u001b[49m\u001b[43mget_path\u001b[49m\u001b[43m(\u001b[49m\u001b[33;43m\"\u001b[39;49m\u001b[33;43mnaturalearth_lowres\u001b[39;49m\u001b[33;43m\"\u001b[39;49m\u001b[43m)\u001b[49m)\n\u001b[32m      3\u001b[39m aoi = world[world[\u001b[33m\"\u001b[39m\u001b[33mname\u001b[39m\u001b[33m\"\u001b[39m].isin([\u001b[33m\"\u001b[39m\u001b[33mAlgeria\u001b[39m\u001b[33m\"\u001b[39m,\u001b[33m\"\u001b[39m\u001b[33mTunisia\u001b[39m\u001b[33m\"\u001b[39m])].to_crs(\u001b[33m\"\u001b[39m\u001b[33mEPSG:4326\u001b[39m\u001b[33m\"\u001b[39m).dissolve()\n\u001b[32m      4\u001b[39m aoi_path = \u001b[33m\"\u001b[39m\u001b[33m../Datasets/processed/vectors/aoi_dz_tn.gpkg\u001b[39m\u001b[33m\"\u001b[39m\n",
      "\u001b[36mFile \u001b[39m\u001b[32mc:\\Users\\moous\\Documents\\M2\\Fire-Detection-Data-Mining-Project\\venv\\Lib\\site-packages\\geopandas\\datasets\\__init__.py:18\u001b[39m, in \u001b[36mget_path\u001b[39m\u001b[34m(dataset)\u001b[39m\n\u001b[32m     12\u001b[39m error_msg = (\n\u001b[32m     13\u001b[39m     \u001b[33m\"\u001b[39m\u001b[33mThe geopandas.dataset has been deprecated and was removed in GeoPandas \u001b[39m\u001b[33m\"\u001b[39m\n\u001b[32m     14\u001b[39m     \u001b[33mf\u001b[39m\u001b[33m\"\u001b[39m\u001b[33m1.0. You can get the original \u001b[39m\u001b[33m'\u001b[39m\u001b[38;5;132;01m{\u001b[39;00mdataset\u001b[38;5;132;01m}\u001b[39;00m\u001b[33m'\u001b[39m\u001b[33m data from \u001b[39m\u001b[33m\"\u001b[39m\n\u001b[32m     15\u001b[39m     \u001b[33mf\u001b[39m\u001b[33m\"\u001b[39m\u001b[38;5;132;01m{\u001b[39;00mne_message\u001b[38;5;250m \u001b[39m\u001b[38;5;28;01mif\u001b[39;00m\u001b[38;5;250m \u001b[39m\u001b[33m'\u001b[39m\u001b[33mnatural\u001b[39m\u001b[33m'\u001b[39m\u001b[38;5;250m \u001b[39m\u001b[38;5;129;01min\u001b[39;00m\u001b[38;5;250m \u001b[39mdataset\u001b[38;5;250m \u001b[39m\u001b[38;5;28;01melse\u001b[39;00m\u001b[38;5;250m \u001b[39mnybb_message\u001b[38;5;132;01m}\u001b[39;00m\u001b[33m\"\u001b[39m\n\u001b[32m     16\u001b[39m )\n\u001b[32m     17\u001b[39m \u001b[38;5;28;01mif\u001b[39;00m dataset \u001b[38;5;129;01min\u001b[39;00m _prev_available:\n\u001b[32m---> \u001b[39m\u001b[32m18\u001b[39m     \u001b[38;5;28;01mraise\u001b[39;00m \u001b[38;5;167;01mAttributeError\u001b[39;00m(error_msg)\n\u001b[32m     19\u001b[39m \u001b[38;5;28;01melse\u001b[39;00m:\n\u001b[32m     20\u001b[39m     error_msg = (\n\u001b[32m     21\u001b[39m         \u001b[33m\"\u001b[39m\u001b[33mThe geopandas.dataset has been deprecated and \u001b[39m\u001b[33m\"\u001b[39m\n\u001b[32m     22\u001b[39m         \u001b[33m\"\u001b[39m\u001b[33mwas removed in GeoPandas 1.0. New sample datasets are now available \u001b[39m\u001b[33m\"\u001b[39m\n\u001b[32m     23\u001b[39m         \u001b[33m\"\u001b[39m\u001b[33min the geodatasets package (https://geodatasets.readthedocs.io/en/latest/)\u001b[39m\u001b[33m\"\u001b[39m\n\u001b[32m     24\u001b[39m     )\n",
      "\u001b[31mAttributeError\u001b[39m: The geopandas.dataset has been deprecated and was removed in GeoPandas 1.0. You can get the original 'naturalearth_lowres' data from https://www.naturalearthdata.com/downloads/110m-cultural-vectors/."
     ]
    }
   ],
   "source": [
    "# quick and reliable AOI from Natural Earth\n",
    "world = gpd.read_file(gpd.datasets.get_path(\"naturalearth_lowres\"))\n",
    "aoi = world[world[\"name\"].isin([\"Algeria\",\"Tunisia\"])].to_crs(\"EPSG:4326\").dissolve()\n",
    "aoi_path = \"../Datasets/processed/vectors/aoi_dz_tn.gpkg\"\n",
    "aoi.to_file(aoi_path, layer=\"aoi\", driver=\"GPKG\")\n",
    "aoi\n",
    "\n"
   ]
  },
  {
   "cell_type": "markdown",
   "id": "68cd8840",
   "metadata": {},
   "source": [
    "### Clipping to the zones"
   ]
  },
  {
   "cell_type": "code",
   "execution_count": null,
   "id": "4ccea91d",
   "metadata": {},
   "outputs": [],
   "source": [
    "# 2) Vector clip helper + apply (fires + DZ land cover)\n",
    "def clip_vector(gdf, aoi_gdf):\n",
    "    gdf = gdf.to_crs(aoi_gdf.crs)\n",
    "    return gpd.clip(gdf, aoi_gdf)\n",
    "\n",
    "# Fires (points)\n",
    "fires_clipped = clip_vector(fires, aoi)\n",
    "fires_clipped.to_file(\"../Datasets/processed/vectors/firms_2024_dz_tn.gpkg\",\n",
    "                      layer=\"fires\", driver=\"GPKG\")\n",
    "\n",
    "# Land cover Algeria (vector)\n",
    "lc_dz = lc_dz.to_crs(aoi.crs)   # you already loaded it above\n",
    "lc_dz_clipped = clip_vector(lc_dz, aoi)\n",
    "lc_dz_clipped.to_file(\"../Datasets/processed/vectors/landcover_dz_gc2005.gpkg\",\n",
    "                      layer=\"lc_dz\", driver=\"GPKG\")\n",
    "\n"
   ]
  },
  {
   "cell_type": "code",
   "execution_count": null,
   "id": "70d523c5",
   "metadata": {},
   "outputs": [],
   "source": [
    "# 3) Raster clip helper (mask by AOI)\n",
    "import json\n",
    "from rasterio.mask import mask\n",
    "\n",
    "def clip_raster_to_aoi(in_tif, out_tif, aoi_gdf):\n",
    "    with rio.open(in_tif) as src:\n",
    "        aoi_proj = aoi_gdf.to_crs(src.crs)\n",
    "        shapes = [json.loads(aoi_proj.geometry.iloc[0].to_json())]\n",
    "        out_img, out_transform = mask(src, shapes=shapes, crop=True)\n",
    "        meta = src.meta.copy()\n",
    "        meta.update({\"height\": out_img.shape[1],\n",
    "                     \"width\":  out_img.shape[2],\n",
    "                     \"transform\": out_transform})\n",
    "    with rio.open(out_tif, \"w\", **meta) as dst:\n",
    "        dst.write(out_img)\n"
   ]
  },
  {
   "cell_type": "code",
   "execution_count": null,
   "id": "160d5f2a",
   "metadata": {},
   "outputs": [],
   "source": [
    "# 3.a) Clip Tunisia land cover (raster)\n",
    "in_tn_lc = \"../Datasets/Land Cover dataset/Tunisia/LCLU.LCTNS2022.tif\"\n",
    "out_tn_lc = \"../Datasets/processed/rasters/landcover_tn/LCLU.LCTNS2022_dztn.tif\"\n",
    "clip_raster_to_aoi(in_tn_lc, out_tn_lc, aoi)\n",
    "\n"
   ]
  },
  {
   "cell_type": "code",
   "execution_count": null,
   "id": "d6ca10a9",
   "metadata": {},
   "outputs": [],
   "source": [
    "# 3.b) Clip climate rasters (prec/tmin/tmax)\n",
    "from glob import glob\n",
    "import os\n",
    "\n",
    "tmin_paths = sorted(glob(\"../Datasets/Climate dataset/wc2.1_cruts4.09_2.5m_tmin_2020-2024/*.tif\"))\n",
    "tmax_paths = sorted(glob(\"../Datasets/Climate dataset/wc2.1_cruts4.09_2.5m_tmax_2020-2024/*.tif\"))\n",
    "prec_paths = sorted(glob(\"../Datasets/Climate dataset/wc2.1_cruts4.09_2.5m_prec_2020-2024/*.tif\"))\n",
    "\n",
    "for p in prec_paths:\n",
    "    out = os.path.join(\"../Datasets/processed/rasters/climate/prec\",\n",
    "                       os.path.basename(p).replace(\".tif\",\"_dztn.tif\"))\n",
    "    clip_raster_to_aoi(p, out, aoi)\n",
    "\n",
    "for p in tmin_paths:\n",
    "    out = os.path.join(\"../Datasets/processed/rasters/climate/tmin\",\n",
    "                       os.path.basename(p).replace(\".tif\",\"_dztn.tif\"))\n",
    "    clip_raster_to_aoi(p, out, aoi)\n",
    "\n",
    "for p in tmax_paths:\n",
    "    out = os.path.join(\"../Datasets/processed/rasters/climate/tmax\",\n",
    "                       os.path.basename(p).replace(\".tif\",\"_dztn.tif\"))\n",
    "    clip_raster_to_aoi(p, out, aoi)\n",
    "\n"
   ]
  },
  {
   "cell_type": "code",
   "execution_count": null,
   "id": "b8cdbb73",
   "metadata": {},
   "outputs": [],
   "source": [
    "# 4) Elevation note (what you have now)\n",
    "\n",
    "from rasterio.merge import merge\n",
    "\n",
    "clipped_elev = sorted(glob(\"../Datasets/processed/rasters/elevation/*_dztn.tif\"))\n",
    "if clipped_elev:\n",
    "    srcs = [rio.open(p) for p in clipped_elev]\n",
    "    mosaic, transform = merge(srcs)\n",
    "    meta = srcs[0].meta.copy()\n",
    "    meta.update({\"height\": mosaic.shape[1], \"width\": mosaic.shape[2], \"transform\": transform})\n",
    "    out_dem = \"../Datasets/processed/rasters/elevation/dz_tn_gmted_mean_250m.tif\"\n",
    "    with rio.open(out_dem, \"w\", **meta) as dst:\n",
    "        dst.write(mosaic)\n",
    "    for s in srcs: s.close()\n",
    "\n"
   ]
  },
  {
   "cell_type": "code",
   "execution_count": null,
   "id": "1061e33f",
   "metadata": {},
   "outputs": [
    {
     "ename": "NameError",
     "evalue": "name 'aoi' is not defined",
     "output_type": "error",
     "traceback": [
      "\u001b[31m---------------------------------------------------------------------------\u001b[39m",
      "\u001b[31mNameError\u001b[39m                                 Traceback (most recent call last)",
      "\u001b[36mCell\u001b[39m\u001b[36m \u001b[39m\u001b[32mIn[15]\u001b[39m\u001b[32m, line 3\u001b[39m\n\u001b[32m      1\u001b[39m \u001b[38;5;66;03m# 6) Quick sanity checks\u001b[39;00m\n\u001b[32m      2\u001b[39m \u001b[38;5;66;03m# CRS consistency\u001b[39;00m\n\u001b[32m----> \u001b[39m\u001b[32m3\u001b[39m \u001b[38;5;28mprint\u001b[39m(\u001b[33m\"\u001b[39m\u001b[33mAOI CRS:\u001b[39m\u001b[33m\"\u001b[39m, \u001b[43maoi\u001b[49m.crs)\n\u001b[32m      4\u001b[39m \u001b[38;5;28mprint\u001b[39m(\u001b[33m\"\u001b[39m\u001b[33mFires CRS:\u001b[39m\u001b[33m\"\u001b[39m, fires_clipped.crs)\n\u001b[32m      5\u001b[39m \u001b[38;5;28mprint\u001b[39m(\u001b[33m\"\u001b[39m\u001b[33mDZ Landcover CRS:\u001b[39m\u001b[33m\"\u001b[39m, lc_dz_clipped.crs)\n",
      "\u001b[31mNameError\u001b[39m: name 'aoi' is not defined"
     ]
    }
   ],
   "source": [
    "# 6) Quick sanity checks\n",
    "# CRS consistency\n",
    "print(\"AOI CRS:\", aoi.crs)\n",
    "print(\"Fires CRS:\", fires_clipped.crs)\n",
    "print(\"DZ Landcover CRS:\", lc_dz_clipped.crs)\n",
    "\n",
    "# One raster check\n",
    "with rio.open(glob(\"../Datasets/processed/rasters/climate/prec/*_dztn.tif\")[0]) as src:\n",
    "    print(\"PREC clipped:\", src.crs, src.width, src.height)"
   ]
  },
  {
   "cell_type": "markdown",
   "id": "b1c7aa5a",
   "metadata": {},
   "source": [
    "# **3) Quick GeoPandas warm-up**\n"
   ]
  },
  {
   "cell_type": "code",
   "execution_count": null,
   "id": "f98dd4ee",
   "metadata": {},
   "outputs": [],
   "source": [
    "# CRS checks: gdf.crs, gdf.to_crs(\"EPSG:4326\")\n",
    "# Area/length: reproject to an equal-area CRS first, e.g. EPSG:3035\n",
    "aeq = aoi.to_crs(3035)\n",
    "aeq.geometry.area.sum() / 1e6  # km²"
   ]
  },
  {
   "cell_type": "code",
   "execution_count": null,
   "id": "bdfbaf09",
   "metadata": {},
   "outputs": [],
   "source": [
    "# Spatial joins:\n",
    "\n",
    "gpd.sjoin(firms_clipped, landcover_clipped[['LCCCode','geometry']], how=\"left\", predicate=\"intersects\")\n"
   ]
  }
 ],
 "metadata": {
  "kernelspec": {
   "display_name": "Python 3",
   "language": "python",
   "name": "python3"
  },
  "language_info": {
   "codemirror_mode": {
    "name": "ipython",
    "version": 3
   },
   "file_extension": ".py",
   "mimetype": "text/x-python",
   "name": "python",
   "nbconvert_exporter": "python",
   "pygments_lexer": "ipython3",
   "version": "3.12.2"
  }
 },
 "nbformat": 4,
 "nbformat_minor": 5
}
