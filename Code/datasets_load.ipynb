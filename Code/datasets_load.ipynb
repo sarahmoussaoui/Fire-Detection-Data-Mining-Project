{
 "cells": [
  {
   "cell_type": "markdown",
   "id": "dadf2f5e",
   "metadata": {},
   "source": [
    "## Elevation dataset"
   ]
  },
  {
   "cell_type": "markdown",
   "id": "70560a26",
   "metadata": {},
   "source": [
    "The .prj file contains coordinate system information \\\\\n",
    "The .dbf file contains attribute data \\\\\n",
    "The .shx file is the spatial index"
   ]
  },
  {
   "cell_type": "code",
   "execution_count": null,
   "id": "1e466cb3",
   "metadata": {},
   "outputs": [],
   "source": [
    "import geopandas as gpd\n",
    "\n",
    "# Load the shapefile\n",
    "gdf = gpd.read_file('../Datasets/Elevation dataset/gmted2010.shp')  # geospatial vector format\n",
    "\n",
    "# Display basic info\n",
    "print(gdf.head())\n",
    "print(gdf.crs)  # Check coordinate reference system"
   ]
  }
 ],
 "metadata": {
  "kernelspec": {
   "display_name": "venv",
   "language": "python",
   "name": "python3"
  },
  "language_info": {
   "name": "python",
   "version": "3.12.2"
  }
 },
 "nbformat": 4,
 "nbformat_minor": 5
}
